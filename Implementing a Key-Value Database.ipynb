{
 "cells": [
  {
   "cell_type": "markdown",
   "metadata": {
    "collapsed": true
   },
   "source": [
    "# Implementing a Key-Value Database\n",
    "\n",
    "## Introduction\n",
    "\n",
    "Throughout the course, we have been studying tree data structures, and we finished with a fully implemented B-tree that allows us to carry out lookups and basic operations (such as adding entries) in logarithmic time.\n",
    "Our implementation of the B-tree class can be found in the `btree.py` file.\n",
    "\n",
    "In this project, we'll use the B-tree data structure as a building block for a fully functioning **Key-value store**. This is a database that operates similarly to a Python dictionary, but it will also allow users to perform range queries. Our goal will be to create an easy-to-use, flexible, and adaptable key-value store that other developers could use in their projects.\n",
    "\n",
    "To do this, we will extend the `BTree` class to implement a key-value store class named `KVStore`. We will also enable the `KVStore` class to allow square bracket syntax to set and access entries (e.g. `entry[key] = value` and `value = entry[key]`).\n",
    "Like a dictionary, the key-value store won't allow two entries with the same key. Any entries with a duplicate key will overwrite the original entry.\n",
    "We will also allow the keys to be any datatype that allows comparisons. This will make our data structure useful in a wide range of contexts.\n",
    "\n",
    "## Extend the BTree Class and Override add() Method\n",
    "\n",
    "Let's start by creating a `KVStore` class that extends the `BTree` class. In the new `KVStore`'s `__init__()` method, we'll call the `BTree`'s `__init__()` method to ensure all attributes are loaded. \n",
    "\n",
    "To make testing easier, we will fix our `split_threshold` to equal two. \n",
    "\n",
    "We'll also override the inherited `add()` method in cases where a new entry is added with a key that already exists. Here, we'll overwrite the existing entry instead of adding a new one."
   ]
  },
  {
   "cell_type": "code",
   "execution_count": 1,
   "metadata": {},
   "outputs": [],
   "source": [
    "# Extend the BTree class and allow CSV Reading upon instantiation\n",
    "from btree import BTree\n",
    "import bisect\n",
    "\n",
    "class KVStore(BTree):\n",
    "\n",
    "    def __init__(self):\n",
    "        super().__init__(split_threshold=2) # Split threshold fixed at 2. Usually we'd allow it to be passed as an argument above.\n",
    "\n",
    "    # Override the add() method from the BTree class\n",
    "    def add(self, key, value):\n",
    "        node = self._find_node(self.root, key)\n",
    "        if node is None:\n",
    "             # If it's a new key, just use the add() method from the BTree class.\n",
    "            super().add(key, value)\n",
    "        else:\n",
    "            # If key already exists, overwrite the entry\n",
    "            overwrite_index = node.keys.index(key)\n",
    "            node.values[overwrite_index] = value\n"
   ]
  },
  {
   "cell_type": "markdown",
   "metadata": {},
   "source": [
    "Let's test the `KVStore` class to make sure our functions work..."
   ]
  },
  {
   "cell_type": "code",
   "execution_count": 2,
   "metadata": {},
   "outputs": [],
   "source": [
    "kv = KVStore()\n",
    "assert kv.split_threshold == 2, 'The split threshold is not equal to 2.'\n",
    "\n",
    "kv.add('a', 1)\n",
    "assert kv.get_value('a') == 1, 'The value was not stored correctly'\n",
    "\n",
    "kv.add('a', 2)\n",
    "assert kv.get_value('a') == 2, 'The value did not update correctly'"
   ]
  },
  {
   "cell_type": "markdown",
   "metadata": {},
   "source": [
    "## Implementing the Item Getter and Setter\n",
    "\n",
    "Let's make the `KVStore` easier to use by allowing users to use the bracket syntax to add entries and retrieve values. This allows them to interact with the B-tree data structure in the same way as a dictionary, which they may be more used to."
   ]
  },
  {
   "cell_type": "code",
   "execution_count": 3,
   "metadata": {},
   "outputs": [],
   "source": [
    "from btree import BTree\n",
    "import bisect\n",
    "\n",
    "class KVStore(BTree):\n",
    "\n",
    "    def __init__(self):\n",
    "        super().__init__(split_threshold=2) \n",
    "   \n",
    "    def add(self, key, value):\n",
    "        node = self._find_node(self.root, key)\n",
    "        if node is None:\n",
    "            super().add(key, value)\n",
    "        else:\n",
    "            overwrite_index = node.keys.index(key)\n",
    "            node.values[overwrite_index] = value\n",
    "            \n",
    "    # Allow retrieval of values using square brackets\n",
    "    def __getitem__(self, key):\n",
    "        return self.get_value(key)\n",
    "    \n",
    "    # Allow creation and modification of values using square brackets\n",
    "    def __setitem__(self, key, value):\n",
    "        self.add(key, value)\n",
    "            \n",
    "    "
   ]
  },
  {
   "cell_type": "markdown",
   "metadata": {},
   "source": [
    "Let's run the same tests we did before but using the bracket syntax..."
   ]
  },
  {
   "cell_type": "code",
   "execution_count": 4,
   "metadata": {},
   "outputs": [],
   "source": [
    "kv = KVStore()\n",
    "\n",
    "kv['a'] = 1\n",
    "assert kv['a'] == 1, 'The value was not stored correctly'\n",
    "\n",
    "kv['a'] = 2\n",
    "assert kv['a'] == 2, 'The value did not update correctly'"
   ]
  },
  {
   "cell_type": "markdown",
   "metadata": {},
   "source": [
    "## Enhancing the Contains Method\n",
    "\n",
    "Here, we will continue to expand the functionality of the `KVStore` to enable to ability to use the `in` operator to check whether a given key is stored. This is another common dictionary feature."
   ]
  },
  {
   "cell_type": "code",
   "execution_count": 5,
   "metadata": {},
   "outputs": [],
   "source": [
    "from btree import BTree\n",
    "import bisect\n",
    "\n",
    "class KVStore(BTree):\n",
    "\n",
    "    def __init__(self):\n",
    "        super().__init__(split_threshold=2) \n",
    "   \n",
    "    def add(self, key, value):\n",
    "        node = self._find_node(self.root, key)\n",
    "        if node is None:\n",
    "            super().add(key, value)\n",
    "        else:\n",
    "            overwrite_index = node.keys.index(key)\n",
    "            node.values[overwrite_index] = value\n",
    "            \n",
    "    def __getitem__(self, key):\n",
    "        return self.get_value(key)\n",
    "    \n",
    "    def __setitem__(self, key, value):\n",
    "        self.add(key, value)\n",
    "        \n",
    "    # Allow the use of the in operator\n",
    "    def __contains__(self, key):\n",
    "        return self.contains(key)\n",
    "    "
   ]
  },
  {
   "cell_type": "markdown",
   "metadata": {},
   "source": [
    "Let's perform some tests on our `__contains__()` method..."
   ]
  },
  {
   "cell_type": "code",
   "execution_count": 6,
   "metadata": {},
   "outputs": [],
   "source": [
    "kv = KVStore()\n",
    "\n",
    "kv['hello'] = 'hello'\n",
    "kv['world'] = 'world'\n",
    "\n",
    "assert 'hello' in kv, 'in operator is not working as intended.'\n",
    "assert 'world' in kv, 'in operator is not working as intended.'"
   ]
  },
  {
   "cell_type": "markdown",
   "metadata": {},
   "source": [
    "## Implement Range Queries\n",
    "\n",
    "One of the most helpful properties of the `KVStore` class will be that it allows us to perform range queries. This will allow users to select entries within a specified range (for example, selecting all entries with keys between 1 and 10).\n",
    "\n",
    "Now, we'll implement a `_range_query()` method to return all values with keys within a given range. This uses an auxiliary method, `_range_intersects`, that allows us to compare the query range to the current node's possible key range, even when there is no minimum or maximum possibility.\n",
    "\n",
    "Users shouldn't have to know the internal structure of the tree, so will also create a `range_query()` helper method that allows users to only enter the range start and end values. This means that they won't have to worry about providing the `current_node`, `min_key` and `max_key` values."
   ]
  },
  {
   "cell_type": "code",
   "execution_count": 7,
   "metadata": {},
   "outputs": [],
   "source": [
    "from btree import BTree\n",
    "import bisect\n",
    "\n",
    "class KVStore(BTree):\n",
    "\n",
    "    def __init__(self):\n",
    "        super().__init__(split_threshold=2) \n",
    "   \n",
    "    def add(self, key, value):\n",
    "        node = self._find_node(self.root, key)\n",
    "        if node is None:\n",
    "            super().add(key, value)\n",
    "        else:\n",
    "            overwrite_index = node.keys.index(key)\n",
    "            node.values[overwrite_index] = value\n",
    "            \n",
    "    def __getitem__(self, key):\n",
    "        return self.get_value(key)\n",
    "    \n",
    "    def __setitem__(self, key, value):\n",
    "        self.add(key, value)\n",
    "        \n",
    "    def __contains__(self, key):\n",
    "        return self.contains(key)\n",
    "        \n",
    "    # Implement internal method to allow range queries\n",
    "    def _range_query(self, range_start, range_end, current_node, min_key, max_key): # min_key/max_key = minimum/maximum key possible in subtree\n",
    "        # Base case: when the query range no longer intersects with the subtree possible range\n",
    "        if not self._range_intersects(range_start, range_end, min_key, max_key):\n",
    "            return []\n",
    "        \n",
    "        # General case:\n",
    "        results = []\n",
    "        for i, key in enumerate(current_node.keys):\n",
    "            if range_start <= key and key <= range_end:\n",
    "                results.append(current_node.values[i])\n",
    "                \n",
    "                # Make sure current node isn't a leaf, and therefore has children to recursively perform search on.\n",
    "            if not current_node.is_leaf():\n",
    "                for i, child in enumerate(current_node.children):\n",
    "                    # New minimum possible key in subtree is the node key to the left of the current child. Unless the current child is the first, then the min key is still -infinity.\n",
    "                    new_min_key = current_node.keys[i - 1] if i > 0 else min_key\n",
    "                    # New maximum possible key in subtree is the node key to the right of the current child. Unless the current child is the last, then the max key is still +infinity.\n",
    "                    new_max_key = current_node.keys[i] if i < len(current_node) else max_key\n",
    "\n",
    "                    # apply the _range_query() method recursively to each child in the current node and combine the results with the root node results\n",
    "                    # Use the new_min_key and new_max_key to narrow down the possible keys within the subtrees recursively\n",
    "                    results += self._range_query(range_start, range_end, child, new_min_key, new_max_key)\n",
    "                        \n",
    "        return results\n",
    "    \n",
    "    # An auxiliary method that checks whether the range intersects with the minimum and maximum keys possible in any given subtree.\n",
    "    # It treats None as always smaller than range end and always greater than range start.\n",
    "    def _range_intersects(self, range_start, range_end, min_key, max_key):\n",
    "        if min_key is not None and min_key > range_end:\n",
    "            return False\n",
    "        if max_key is not None and max_key < range_start:\n",
    "            return False\n",
    "        return True\n",
    "    \n",
    "    # Implement the range_query() helper function\n",
    "    def range_query(self, range_start, range_end):\n",
    "        return self._range_query(range_start, range_end, self.root, None, None)"
   ]
  },
  {
   "cell_type": "markdown",
   "metadata": {},
   "source": [
    "## Random Tests\n",
    "\n",
    "Now we've completed our `KVStore` class implementation, let's compare our data structure with a simpler dictionary data structure (`DictKVStore`). We will then be able to see if our results are the same.\n",
    "\n",
    "This will also help us ensure that any future changes to our `KVStore` don't break the existing functionality."
   ]
  },
  {
   "cell_type": "code",
   "execution_count": 8,
   "metadata": {},
   "outputs": [],
   "source": [
    "import random\n",
    "\n",
    "# Simpler dictionary class to compare our KVStore class against\n",
    "class DictKVStore(dict):\n",
    "\n",
    "    def range_query(self, range_start, range_end):\n",
    "        result = []\n",
    "        for key in self.keys():\n",
    "            if range_start <= key and key <= range_end:\n",
    "                result.append(self[key])\n",
    "        return result\n",
    "    \n",
    "dict_kv = DictKVStore()\n",
    "our_kv = KVStore()\n",
    "    \n",
    "for i in [random.randint(0,100) for _ in range(10)]:\n",
    "    dict_kv[i] = i\n",
    "    our_kv[i] = i\n",
    "    \n",
    "for range_start, range_end in [(1, 3), (4, 6), (1, 10), (5, 5)]:\n",
    "    dict_res = sorted(dict_kv.range_query(range_start, range_end))\n",
    "    our_res = sorted(our_kv.range_query(range_start, range_end))\n",
    "    assert dict_res == our_res, 'The data structures do not return the same range query result.'\n",
    "    "
   ]
  },
  {
   "cell_type": "markdown",
   "metadata": {},
   "source": [
    "## Peformance Testing\n",
    "\n",
    "We can see above that the dictionary implementation is a lot simpler and can store the key-value entries we provided. However, we will show below that the `KVStore` class has much better performance when it comes to handling range queries across large datasets."
   ]
  },
  {
   "cell_type": "code",
   "execution_count": 9,
   "metadata": {},
   "outputs": [
    {
     "data": {
      "image/png": "[encoded data removed]",
      "text/plain": [
       "<Figure size 432x288 with 1 Axes>"
      ]
     },
     "metadata": {
      "needs_background": "light"
     },
     "output_type": "display_data"
    }
   ],
   "source": [
    "import time\n",
    "import csv\n",
    "\n",
    "dict_kv = DictKVStore()\n",
    "our_kv = KVStore()\n",
    "\n",
    "# Generate the entries\n",
    "for i in [random.randint(1, 100000) for _ in range(50000)]:\n",
    "    dict_kv[i] = i\n",
    "    our_kv[i] = i\n",
    "    \n",
    "# Measure query times\n",
    "time_ratio = []\n",
    "for range_end in range(1, 1000):\n",
    "        range_start = 1\n",
    "\n",
    "        start = time.time()\n",
    "        dict_kv.range_query(range_start, range_end)\n",
    "        end = time.time()\n",
    "        dict_time = end - start\n",
    "        \n",
    "\n",
    "        start = time.time()\n",
    "        our_kv.range_query(range_start, range_end)\n",
    "        end = time.time()\n",
    "        our_time = end - start\n",
    "        \n",
    "        if our_time > 0.0:\n",
    "            time_ratio.append(dict_time / our_time)\n",
    "\n",
    "        \n",
    "\n",
    "# Plot results\n",
    "import matplotlib.pyplot as plt\n",
    "plt.plot(time_ratio)\n",
    "plt.xlabel('Query range result size')\n",
    "plt.ylabel('Runtime ratio')\n",
    "plt.show()\n",
    "    \n",
    "    \n",
    "    \n",
    "\n",
    "    "
   ]
  }
 ],
 "metadata": {
  "kernelspec": {
   "display_name": "Python 3",
   "language": "python",
   "name": "python3"
  },
  "language_info": {
   "codemirror_mode": {
    "name": "ipython",
    "version": 3
   },
   "file_extension": ".py",
   "mimetype": "text/x-python",
   "name": "python",
   "nbconvert_exporter": "python",
   "pygments_lexer": "ipython3",
   "version": "3.8.8"
  }
 },
 "nbformat": 4,
 "nbformat_minor": 1
}
